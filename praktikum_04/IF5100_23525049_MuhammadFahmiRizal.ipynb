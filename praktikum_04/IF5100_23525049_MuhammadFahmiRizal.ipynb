{
 "cells": [
  {
   "cell_type": "markdown",
   "id": "e1d10e0a",
   "metadata": {},
   "source": [
    "Praktikum 4\n",
    "\n",
    "Nama    : Muhammad Fahmi Rizal\n",
    "\n",
    "NIM     : 23525049"
   ]
  },
  {
   "cell_type": "markdown",
   "id": "2d0421c2",
   "metadata": {},
   "source": [
    "1. Brute Force"
   ]
  },
  {
   "cell_type": "code",
   "execution_count": 38,
   "id": "1f1b640f",
   "metadata": {
    "lines_to_next_cell": 1
   },
   "outputs": [],
   "source": [
    "def brute_force(arr_num, target):\n",
    "    arr_lenght = len(arr_num)\n",
    "\n",
    "    # check constrait\n",
    "    assert arr_lenght >=2 and arr_lenght<=1000, \"Array lenght must be between 2 and 1,000\"\n",
    "    assert target >= -10000000 and target <=10000000, \"Target must be between -10,000,000 and 10,000,000\"\n",
    "    for x in arr_num:\n",
    "        assert x >=  -10000000 and x <=10000000, \"Array value must be between -10,000,000 and 10,000,000\"\n",
    "\n",
    "    print()\n",
    "    i = 0\n",
    "    while i<arr_lenght:\n",
    "        j = i+1\n",
    "        while j<arr_lenght:\n",
    "            if (arr_num[i]+arr_num[j]) == target:\n",
    "                return f\"Output: [{i},{j}]\" \n",
    "            j += 1\n",
    "        i += 1\n",
    "\n",
    "def print_input(arr_num, target):\n",
    "    print(f\"Input: nums = {arr_num}, target = {target}\")"
   ]
  },
  {
   "cell_type": "code",
   "execution_count": 39,
   "id": "42176a06",
   "metadata": {},
   "outputs": [],
   "source": [
    "# nums = [3,4,5,6]\n",
    "# target = 7\n",
    "\n",
    "nums = [4,5,6]\n",
    "target = 10\n",
    "\n",
    "# nums = [5,5]\n",
    "# target = 10"
   ]
  },
  {
   "cell_type": "code",
   "execution_count": 40,
   "id": "ed45365d",
   "metadata": {},
   "outputs": [
    {
     "name": "stdout",
     "output_type": "stream",
     "text": [
      "Input: nums = [4, 5, 6], target = 10\n",
      "\n",
      "Output: [0,2]\n"
     ]
    }
   ],
   "source": [
    "print_input(nums, target)\n",
    "print(brute_force(nums, target))"
   ]
  },
  {
   "cell_type": "markdown",
   "id": "68564bd6",
   "metadata": {},
   "source": [
    "2. Binary Search"
   ]
  },
  {
   "cell_type": "code",
   "execution_count": 44,
   "id": "9b8399cc",
   "metadata": {},
   "outputs": [],
   "source": [
    "nums = [-1,0,2,4,6,8]\n",
    "target = 4\n",
    "\n",
    "# nums = [-1,0,2,4,6,8]\n",
    "# target = 3\n",
    "\n",
    "\n"
   ]
  },
  {
   "cell_type": "code",
   "execution_count": 46,
   "id": "58e73d94",
   "metadata": {},
   "outputs": [],
   "source": [
    "def binary_search(arr_num, target):\n",
    "    left = 0\n",
    "    right = len(arr_num)-1\n",
    "\n",
    "    #check constraints\n",
    "    assert len(arr_num) >= 1 and len(arr_num) <= 10000, \"Array lenght must be between 1 and 10,000\"\n",
    "    assert target >=  -10000 and target <=10000, \"Target must be between -10,000 and 10,000\"\n",
    "    for x in arr_num:\n",
    "        assert x >=  -10000 and x <=10000, \"Array value must be between -10,000 and 10,000\"\n",
    "\n",
    "    while left <= right:\n",
    "        mid = (left + right) // 2\n",
    "\n",
    "        if arr_num[mid] == target:\n",
    "            return f\"Output: {mid}\"\n",
    "        elif arr_num[mid] < target:\n",
    "            left = mid + 1\n",
    "        else:\n",
    "            right = mid - 1\n",
    "\n",
    "    return -1  "
   ]
  },
  {
   "cell_type": "code",
   "execution_count": 47,
   "id": "0b2ac668",
   "metadata": {},
   "outputs": [
    {
     "name": "stdout",
     "output_type": "stream",
     "text": [
      "Input: nums = [-1, 0, 2, 4, 6, 8], target = 4\n",
      "Output: 3\n"
     ]
    }
   ],
   "source": [
    "print_input(nums, target)\n",
    "print(binary_search(nums, target))"
   ]
  }
 ],
 "metadata": {
  "jupytext": {
   "cell_metadata_filter": "-all",
   "main_language": "python",
   "notebook_metadata_filter": "-all"
  },
  "kernelspec": {
   "display_name": "Python 3",
   "language": "python",
   "name": "python3"
  },
  "language_info": {
   "codemirror_mode": {
    "name": "ipython",
    "version": 3
   },
   "file_extension": ".py",
   "mimetype": "text/x-python",
   "name": "python",
   "nbconvert_exporter": "python",
   "pygments_lexer": "ipython3",
   "version": "3.10.13"
  }
 },
 "nbformat": 4,
 "nbformat_minor": 5
}
